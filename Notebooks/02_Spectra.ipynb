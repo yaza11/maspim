{
 "cells": [
  {
   "cell_type": "markdown",
   "id": "234369d7-c42e-414a-a810-bc7f1a914512",
   "metadata": {},
   "source": [
    "# Processing spectra\n",
    "In the previous section, we looked at different ways of reading in data and introduced the `ProjectMSI` class. Now we want to process the spectra. We will cover the following steps:\n",
    "* adding up spectra\n",
    "* estimating the baseline\n",
    "* lock-mass calibration\n",
    "* peak-finding\n",
    "* binning\n",
    "* filtering\n",
    "* creating a feature table\n",
    "Furthermore, we will look at a method to combine multiple measurements with the same mass window.\n",
    "\n",
    "Again, we will first investigate the more comprehensive, less elegant approach and afterward, the one using the `ProjectMSI` class.\n",
    "\n",
    "One of the big challenges that we face for MALDI data specifically is that we have multiple spectra, which are prone to noise. This means that peaks belonging to the same molecule are shifted by a few mDa from spectrum to spectrum. This makes data reduction more challenging since we want to end up with a data cube where each plane corresponds to the ion image of a compound.\n",
    "\n",
    "## Motivation\n",
    "Previously, this was tackled by using the line or centroid spectra and performing kernel density estimation on the distribution of masses over all spectra (see https://github.com/weimin-liu/msi_feature_extraction). In this workflow we rely on the profile spectra: firstly, the profile spectra are resampled such that each spectrum contains intensity values at the same masses. A convenient choice is an even sampling, as introduced in the previous section. Notice that it is not possible to add spectra without interpolation because the spectra in the mcf files are sampled at different locations for each spectrum.\n",
    "\n",
    "One advantage of combining profile spectra before peak picking is that high-frequency noise flattens out and is less likely to be detected as peaks. Furthermore, being able to access the profile spectra is advantageous for calibrations or anything that involves comparing spectra. Conventionally, one would use the line spectra (position of peaks and widths of peaks) to reconstruct the original spectrum. Maintaining the profile spectra on the other hand does not run the risk of biases due to false peaks or inaccurate peak shape estimation. \n",
    "\n",
    "Instead of finding the peaks within each spectrum, peaks are estimated from the summed-up spectrum, which we call *kernels* (each kernel represents one compound), and then those kernels are used to estimate the intensities of compounds.\n",
    "\n",
    "## Step-by-step\n",
    "With that out of the way, let's take a look at each step. We will also compare the targeted and untargeted approaches, the targeted approach allows a reduction of the number of peaks and is less sensitive to the peak-picking method. \n",
    "\n",
    "### Setting up\n",
    "First of all, we need a reader (either `ReadBrukerMCF` or `hdf5Handler`) and a `Spectra` instance, in this example we will go with the `hdf5Handler` version. If you skipped the previous section and did not create an hdf5 file you can replace the code in the cell below by\n",
    "```python\n",
    "reader = ReadBrukerMCF(path_d_folder)\n",
    "reader.create_reader()\n",
    "reader.create_indices()\n",
    "reader.set_meta_data()\n",
    "reader.set_QTOF_window()\n",
    "```"
   ]
  },
  {
   "cell_type": "code",
   "execution_count": 1,
   "id": "52665cc4-7090-4887-bde5-ba0b8e6b607c",
   "metadata": {},
   "outputs": [],
   "source": [
    "from msi_workflow import Spectra, ReadBrukerMCF, hdf5Handler"
   ]
  },
  {
   "cell_type": "code",
   "execution_count": 2,
   "id": "07e09fc4-6e04-4a91-805d-ded9570a80ea",
   "metadata": {},
   "outputs": [],
   "source": [
    "# define the path to the .d folder\n",
    "path_d_folder = r'C:\\Users\\Yannick Zander\\Promotion\\Test data\\13012023_SBB_TG3A_05-10_Test2.d'"
   ]
  },
  {
   "cell_type": "code",
   "execution_count": 3,
   "id": "ba47ff73-a617-46b8-ae0d-a6716a05e9a2",
   "metadata": {},
   "outputs": [],
   "source": [
    "# initiate the reader\n",
    "reader = hdf5Handler(path_d_folder)"
   ]
  },
  {
   "cell_type": "markdown",
   "id": "01927629-af8a-40e4-badd-91e09070e850",
   "metadata": {},
   "source": [
    "Now let's instanciate the `Spectra` object"
   ]
  },
  {
   "cell_type": "code",
   "execution_count": 4,
   "id": "9638297f-71d8-4a01-b280-9016262a7b5c",
   "metadata": {},
   "outputs": [],
   "source": [
    "spec = Spectra(reader=reader)"
   ]
  },
  {
   "cell_type": "markdown",
   "id": "e8dd974b-a49d-49f1-a67b-6d6336686ae0",
   "metadata": {},
   "source": [
    "The first step is always to add up all spectra (they will be resampled automatically). This method loops over all spectra, which requires reading them all in. This is where the hdf5 file would pay off, but for this toy-example this is not a big concern"
   ]
  },
  {
   "cell_type": "code",
   "execution_count": 5,
   "id": "e4b22f91-c8dc-479c-9c73-dd4dbf15b5d7",
   "metadata": {},
   "outputs": [
    {
     "name": "stderr",
     "output_type": "stream",
     "text": [
      "Adding spectra: 100%|█████████████████████████████████████████████████████████████████| 72/72 [00:00<00:00, 356.32it/s]\n"
     ]
    }
   ],
   "source": [
    "spec.add_all_spectra(reader=reader)"
   ]
  },
  {
   "cell_type": "markdown",
   "id": "915c28e9-5451-441b-b02b-792e026bbf01",
   "metadata": {},
   "source": [
    "But in case you followed the pervious section, here is a quick speed comparison (not including initialization of the readers):"
   ]
  },
  {
   "cell_type": "code",
   "execution_count": 6,
   "id": "5466e54e-8ee1-45df-83de-ea8839545894",
   "metadata": {},
   "outputs": [
    {
     "name": "stderr",
     "output_type": "stream",
     "text": [
      "Adding spectra: 100%|██████████████████████████████████████████████████████████████████| 72/72 [00:04<00:00, 15.37it/s]\n",
      "Adding spectra: 100%|█████████████████████████████████████████████████████████████████| 72/72 [00:00<00:00, 380.66it/s]"
     ]
    },
    {
     "name": "stdout",
     "output_type": "stream",
     "text": [
      "Adding up with ReadBrukerMCF took 4.7 seconds\n",
      "Adding up with hdf5Handler took 0.2 seconds\n",
      "resulting in a speedup-factor of 25\n"
     ]
    },
    {
     "name": "stderr",
     "output_type": "stream",
     "text": [
      "\n"
     ]
    }
   ],
   "source": [
    "from msi_workflow import Spectra, ReadBrukerMCF, hdf5Handler\n",
    "import os\n",
    "import time\n",
    "\n",
    "path_d_folder = r'C:\\Users\\Yannick Zander\\Promotion\\Test data\\13012023_SBB_TG3A_05-10_Test2.d'\n",
    "\n",
    "mcf = ReadBrukerMCF(path_d_folder)\n",
    "mcf.create_reader()\n",
    "mcf.create_indices()\n",
    "mcf.set_meta_data()\n",
    "mcf.set_QTOF_window()\n",
    "\n",
    "hdf = hdf5Handler(os.path.join(path_d_folder, 'Spectra.hdf5'))\n",
    "\n",
    "test = Spectra(reader=mcf)\n",
    "mcf_start = time.time()\n",
    "test.add_all_spectra(mcf)\n",
    "mcf_end = time.time()\n",
    "\n",
    "test = Spectra(reader=hdf)\n",
    "hdf_start = time.time()\n",
    "test.add_all_spectra(hdf)\n",
    "hdf_end = time.time()\n",
    "\n",
    "print(f'Adding up with ReadBrukerMCF took {mcf_end - mcf_start:.1f} seconds')\n",
    "print(f'Adding up with hdf5Handler took {hdf_end - hdf_start:.1f} seconds')\n",
    "print(f'resulting in a speedup-factor of {(mcf_end - mcf_start) / (hdf_end - hdf_start):.0f}')"
   ]
  },
  {
   "cell_type": "markdown",
   "id": "9287e259-12fc-4ba2-b450-c47d9a9a9da7",
   "metadata": {},
   "source": [
    "On my machine there is a speed-up by a factor of about 20. Anyway, let's move on. You can take a look at the summed up spectrum:"
   ]
  },
  {
   "cell_type": "code",
   "execution_count": 7,
   "id": "9164139d-1898-4ee7-b749-61b7456f51a4",
   "metadata": {},
   "outputs": [
    {
     "data": {
      "image/png": "[encoded data removed]",
      "text/plain": [
       "<Figure size 640x480 with 1 Axes>"
      ]
     },
     "metadata": {},
     "output_type": "display_data"
    }
   ],
   "source": [
    "spec.plot_summed()"
   ]
  },
  {
   "cell_type": "markdown",
   "id": "50e3821e-39ab-443a-867c-874c08232238",
   "metadata": {},
   "source": [
    "### Estimating the baseline level\n",
    "Usually, a substantial baseline is noticeable between peaks. Especially for the kernel estimation, this is annoying. In this pipeline, a minimum filter is used to estimate the baseline level of the summed-up spectrum and afterward removed from the summed spectrum. Within the single spectra, the baseline divided by the number of spectra is used as the noise level."
   ]
  },
  {
   "cell_type": "code",
   "execution_count": 8,
   "id": "c0d66277-cf93-4955-8138-c4f2037c6606",
   "metadata": {},
   "outputs": [],
   "source": [
    "spec.subtract_baseline()"
   ]
  },
  {
   "cell_type": "code",
   "execution_count": 17,
   "id": "145df8d4-12a0-48ea-aa22-591520072f91",
   "metadata": {},
   "outputs": [
    {
     "data": {
      "text/plain": [
       "array([21339.46282476, 21339.46282476, 21339.46282476, ...,\n",
       "       22260.80308363, 22260.80308363, 22260.80308363])"
      ]
     },
     "execution_count": 17,
     "metadata": {},
     "output_type": "execute_result"
    }
   ],
   "source": [
    "spec._noise_level"
   ]
  },
  {
   "cell_type": "markdown",
   "id": "803d4327-bc61-4c60-b5b1-1f6d7db41d2a",
   "metadata": {},
   "source": [
    "The window size of the minimum filter is crucial. Usually, the automatic window-size determination does a good job, but if the window is too small, the baseline creeps into the peaks and we lose the peak shape, so be on the lookout for peaks that look like they collapsed. We can force this by making the window size too small:"
   ]
  },
  {
   "cell_type": "code",
   "execution_count": 15,
   "id": "bcff1d4c-0f84-45e7-aea5-593c928c1358",
   "metadata": {},
   "outputs": [
    {
     "name": "stderr",
     "output_type": "stream",
     "text": [
      "Adding spectra: 100%|█████████████████████████████████████████████████████████████████| 72/72 [00:00<00:00, 354.29it/s]\n",
      "Adding spectra: 100%|█████████████████████████████████████████████████████████████████| 72/72 [00:00<00:00, 361.71it/s]\n",
      "Adding spectra: 100%|█████████████████████████████████████████████████████████████████| 72/72 [00:00<00:00, 374.34it/s]\n"
     ]
    },
    {
     "data": {
      "image/png": "[encoded data removed]",
      "text/plain": [
       "<Figure size 640x480 with 1 Axes>"
      ]
     },
     "metadata": {},
     "output_type": "display_data"
    }
   ],
   "source": [
    "import matplotlib.pyplot as plt\n",
    "import numpy as np\n",
    "\n",
    "# window around the largest peak\n",
    "window_size = .1\n",
    "center_mz = spec.mzs[np.argmax(spec.intensities)]\n",
    "\n",
    "mask = (spec.mzs > center_mz - window_size) & (spec.mzs < center_mz + window_size)\n",
    "\n",
    "spec.add_all_spectra(reader=reader)\n",
    "plt.plot(spec.mzs[mask], spec.intensities[mask], label='original')\n",
    "\n",
    "spec.add_all_spectra(reader=reader)\n",
    "spec.subtract_baseline(overwrite=True)  # window size of .05 Da\n",
    "plt.plot(spec.mzs[mask], spec.intensities[mask], label='automatic determination')\n",
    "\n",
    "spec.add_all_spectra(reader=reader)\n",
    "spec.subtract_baseline(window_size=round(.005 / 1e-4))  # window size of 5 mDa\n",
    "plt.plot(spec.mzs[mask], spec.intensities[mask], label='too small window')\n",
    "plt.legend()\n",
    "plt.xlabel('m/z in Da')\n",
    "plt.ylabel('Intensities')\n",
    "plt.show()"
   ]
  },
  {
   "cell_type": "markdown",
   "id": "a2671f01-ba73-436f-a45b-cba42d049a03",
   "metadata": {},
   "source": [
    "The automatic window-size estimation determines the biggest peak width at a relative height of 80%. "
   ]
  },
  {
   "cell_type": "code",
   "execution_count": 11,
   "id": "ab199236-3c6f-4b8f-b708-f7a2033354a2",
   "metadata": {},
   "outputs": [
    {
     "name": "stderr",
     "output_type": "stream",
     "text": [
      "Adding spectra: 100%|█████████████████████████████████████████████████████████████████| 72/72 [00:00<00:00, 366.44it/s]\n"
     ]
    }
   ],
   "source": [
    "# make sure we got a reasonable baseline in the end\n",
    "spec.add_all_spectra(reader=reader)\n",
    "spec.subtract_baseline(overwrite=True)  # window size of .05 Da"
   ]
  },
  {
   "cell_type": "markdown",
   "id": "f3a72da8-9390-4637-956b-37379b829325",
   "metadata": {},
   "source": [
    "### Lock-mass calibration\n",
    "The next step is to make sure that the spectra are aligned. This is achieved by looking for certain calibration masses within each spectrum. Each calibration mass is matched to a peak if it is close and high enough. From the differences, a polynomial is estimated that minimizes the differences between calibration masses and peaks. By default, the compound list suggested by Wörmer et al. (2019, https://doi.org/10.1016/j.orggeochem.2018.11.009) is used. We suggest using a low-degree polynomial because for higher-degree polynomials the correction can become quite large outside the mass range spanned by the calibrant masses. Furthermore, we suggest using a fairly high signal-to-noise ratio (SNR) threshold (by default 4) to make sure that calibrants are not matched to noise peaks. The default search range is 5 mDa."
   ]
  },
  {
   "cell_type": "code",
   "execution_count": null,
   "id": "f0932a78-cf76-462f-b3ee-8275bca2dd08",
   "metadata": {},
   "outputs": [],
   "source": [
    "spec.require_calibrate_functions(reader=reader)\n",
    "spec.plot_calibration_functions(reader=reader, indices=[5, 7, 9])"
   ]
  },
  {
   "cell_type": "markdown",
   "id": "5f944588-ac68-44c3-87e8-32bad60d8c79",
   "metadata": {},
   "source": [
    "After we found our calibration functions, we need to add up the spectra again, this time using the calibrated spectra (once you set the calibration functions, each time a spectrum is fetched from a reader, it will be calibrated automatically) and subtract the baseline again"
   ]
  },
  {
   "cell_type": "code",
   "execution_count": null,
   "id": "8c69a7de-7246-471c-aca7-08972c5dfa8f",
   "metadata": {},
   "outputs": [],
   "source": [
    "spec.add_all_spectra(reader)\n",
    "spec.subtract_baseline(overwrite=True)"
   ]
  },
  {
   "cell_type": "markdown",
   "id": "7f2f4a10-8ea1-46d2-aec7-8558f6509869",
   "metadata": {},
   "source": [
    "The peaks are indeed co-eluting."
   ]
  },
  {
   "cell_type": "markdown",
   "id": "a5f2844b-52a3-4595-8ed6-df4d47bfeefa",
   "metadata": {},
   "source": [
    "### Loading and saving\n",
    "In the next section, we will investigate two different ways of proceeding, the targeted and untargeted approach. Therefore, it would be handy to create a savepoint.\n",
    "\n",
    "We can save the object to disk, such that we can just load it the next time we need it and do not have to perform all the steps again. Calling `save` will create a file inside of the .d folder called *Spectra.pickle*"
   ]
  },
  {
   "cell_type": "code",
   "execution_count": null,
   "id": "417149e6-5ad5-4602-a1df-6bfe2d751240",
   "metadata": {},
   "outputs": [],
   "source": [
    "spec.save()"
   ]
  },
  {
   "cell_type": "markdown",
   "id": "d0d7bf14-1a7f-43f2-b835-0bbcc1c8f2ff",
   "metadata": {},
   "source": [
    "Loading works like this"
   ]
  },
  {
   "cell_type": "code",
   "execution_count": null,
   "id": "db300f4d-9945-4a87-8fc7-decca065a6ce",
   "metadata": {},
   "outputs": [],
   "source": [
    "spec = Spectra(path_d_folder=path_d_folder, initiate=False)\n",
    "spec.load()"
   ]
  },
  {
   "cell_type": "markdown",
   "id": "fe9b863b-e9f0-4692-be4b-8134be5a2b35",
   "metadata": {},
   "source": [
    "### Setting target compounds (only for targeted approach)\n",
    "If you are only interested in certain compounds, you can specify them in this step (and also you don't have to worry about the peak filtering). Here we will show how to target the compounds needed to calculate the Uk37 proxy. By default, this method picks the nearest peak for each target within a given tolerance. The tolerance will be the median kernel width, if not provided, but should be in the range of 3 to 5 mDa). "
   ]
  },
  {
   "cell_type": "code",
   "execution_count": null,
   "id": "b8a61c75-6e29-4f77-a1dd-00bbd28719bf",
   "metadata": {},
   "outputs": [],
   "source": [
    "from msi_workflow.res.compound_masses import mass_C37_2_Na_p, mass_C37_3_Na_p\n",
    "spec = Spectra(path_d_folder=path_d_folder, initiate=False)\n",
    "spec.load()\n",
    "spec.set_targets(targets=[mass_C37_2_Na_p, mass_C37_3_Na_p], tolerances=3e-3, plts=True)"
   ]
  },
  {
   "cell_type": "markdown",
   "id": "e8a34fcc-a56b-4c14-8a2f-c240b4658222",
   "metadata": {},
   "source": [
    "#### Binning the spectra\n",
    "Using our kernels, we can now estimate the compound abundances within each spectrum"
   ]
  },
  {
   "cell_type": "code",
   "execution_count": null,
   "id": "9dc2c2d2-275c-4b81-bb42-f22bee427cc8",
   "metadata": {},
   "outputs": [],
   "source": [
    "spec.bin_spectra(reader)"
   ]
  },
  {
   "cell_type": "markdown",
   "id": "f5ce21a7-44e0-4d90-8b79-508309cc7b5b",
   "metadata": {},
   "source": [
    "and turn it into a feature table"
   ]
  },
  {
   "cell_type": "code",
   "execution_count": null,
   "id": "f2dadcc2-9c29-4427-adab-3a15cffa6f71",
   "metadata": {},
   "outputs": [],
   "source": [
    "df = spec.set_feature_table()\n",
    "print(df.head())"
   ]
  },
  {
   "cell_type": "markdown",
   "id": "0c151d1c-8a74-4401-b108-260ee6629ca0",
   "metadata": {},
   "source": [
    "#### Filtering intensities\n",
    "This feature table may contain a lot of intensities that are below the noise level. It may be desirable to set those intensities to zero. Let's first look at how our ion image looks now and then do the filtering"
   ]
  },
  {
   "cell_type": "code",
   "execution_count": null,
   "id": "de1425df-e067-4729-b3a4-7db60a62c3ea",
   "metadata": {
    "scrolled": true
   },
   "outputs": [],
   "source": [
    "cols = spec.feature_table.columns[:-3]\n",
    "for col in cols:\n",
    "    img = spec.feature_table.pivot(index='y', columns='x', values=col)\n",
    "    clip = np.nanquantile(img, .95)\n",
    "    img[img > clip] = clip\n",
    "    plt.imshow(img)\n",
    "    plt.title(col)\n",
    "    plt.show()"
   ]
  },
  {
   "cell_type": "markdown",
   "id": "3f627a4b-4363-4e84-a83e-c8639300c19b",
   "metadata": {},
   "source": [
    "Now let's do the filtering with an SNR of 2"
   ]
  },
  {
   "cell_type": "code",
   "execution_count": null,
   "id": "e6e40927-7549-487b-8d39-4369d976bb89",
   "metadata": {},
   "outputs": [],
   "source": [
    "_ = spec.filter_line_spectra(SNR_threshold=8)"
   ]
  },
  {
   "cell_type": "markdown",
   "id": "35c5fbf1-5fdd-44b2-b3d0-cd517baacc90",
   "metadata": {},
   "source": [
    "and look at the ion images again"
   ]
  },
  {
   "cell_type": "code",
   "execution_count": null,
   "id": "9fd42540-a35b-4695-b7b8-09322f031209",
   "metadata": {
    "scrolled": true
   },
   "outputs": [],
   "source": [
    "cols = spec.feature_table.columns[:-3]\n",
    "for col in cols:\n",
    "    img = spec.feature_table.pivot(index='y', columns='x', values=col)\n",
    "    clip = np.nanquantile(img, .95)\n",
    "    img[img > clip] = clip\n",
    "    plt.imshow(img)\n",
    "    plt.title(col)\n",
    "    plt.show()"
   ]
  },
  {
   "cell_type": "markdown",
   "id": "48424c89-f27f-4c38-9e6d-51c6f1b27f31",
   "metadata": {},
   "source": [
    "Unfortunately, due to the low number of spectra the noise-level estimation is not working very well here."
   ]
  },
  {
   "cell_type": "markdown",
   "id": "2dba0e85-afc1-4d71-87a7-4b88a986007d",
   "metadata": {},
   "source": [
    "### Untargeted approach\n",
    "Now let's proceed with the untargeted approach"
   ]
  },
  {
   "cell_type": "code",
   "execution_count": null,
   "id": "8a0f3a55-11ff-4ee3-ba2c-595daca0a90a",
   "metadata": {},
   "outputs": [],
   "source": [
    "spec = Spectra(path_d_folder=path_d_folder, initiate=False)\n",
    "spec.load()"
   ]
  },
  {
   "cell_type": "markdown",
   "id": "752d0aa5-71b7-4a82-a1cc-845986aa01b2",
   "metadata": {},
   "source": [
    "#### Peak finding\n",
    "Now that the baseline is removed and the spectra are calibrated, we are ready to estimate the peaks. The most important parameter for setting the peaks is the prominence (0.1 by default, in terms of median intensity), a lower value will result in more peaks. This is a wrapper around scipy's `signal.find_peaks`"
   ]
  },
  {
   "cell_type": "code",
   "execution_count": null,
   "id": "41c07959-69cd-4af2-a859-efdba4332cad",
   "metadata": {},
   "outputs": [],
   "source": [
    "spec.set_peaks()"
   ]
  },
  {
   "cell_type": "markdown",
   "id": "0d6720f8-0c27-4775-a859-850271746298",
   "metadata": {},
   "source": [
    "We can filter out peaks, for example by requiring a certain SNR threshold (we'd recommend using a threshold of at least 1, but furhter downstream there is another opportunity to filter out low SNR signals):"
   ]
  },
  {
   "cell_type": "code",
   "execution_count": null,
   "id": "4fc783b0-552e-4a34-8330-b53824d768c5",
   "metadata": {},
   "outputs": [],
   "source": [
    "spec.filter_peaks(SNR_threshold=1, plts=True)"
   ]
  },
  {
   "cell_type": "markdown",
   "id": "b52c47cb-39dc-4549-8d9a-04d7f6c40daf",
   "metadata": {},
   "source": [
    "or by detecting side-peaks (which are artifacts from the fourier transform), but usually they are quite low in there intensities and not a big concern"
   ]
  },
  {
   "cell_type": "code",
   "execution_count": null,
   "id": "cce9d3f6-6b3b-4420-8e02-608cecc244ce",
   "metadata": {},
   "outputs": [],
   "source": [
    "spec.filter_peaks(remove_sidepeaks=True, plts=True)"
   ]
  },
  {
   "cell_type": "markdown",
   "id": "851c1565-d6d3-4d6c-852e-495042a30596",
   "metadata": {},
   "source": [
    "#### Kernel estimation\n",
    "Now that we found our peaks, we need to define which section of the spectrum belongs to each peak and where the centers of peaks are. The `Spectra` class implements a method that fits a Gaussian around each peak, making it robust against non-ideal peak shapes. It is also possible to estimate the kernels just from the height and width, which is more robust against very weird peak-shapes, but less accurate. Usually, you will encounter a few warnings for peaks where the peak parameters can not be estimated. Those can be co-eluting peaks or small artifacts and generally are nothing to worry about. If you want to make really sure, you can check out the peaks afterward"
   ]
  },
  {
   "cell_type": "code",
   "execution_count": null,
   "id": "6785e263-5683-42af-884b-e7e789514084",
   "metadata": {},
   "outputs": [],
   "source": [
    "spec.set_kernels(sigma_max=5e-3)"
   ]
  },
  {
   "cell_type": "markdown",
   "id": "7553e439-f577-403a-8186-84c9a96db5ee",
   "metadata": {},
   "source": [
    "Let's check one of those sporious peaks out (we have to set the peaks again, because the sporious peaks will be removed within `set_kernels`)"
   ]
  },
  {
   "cell_type": "code",
   "execution_count": null,
   "id": "24106119-1577-4b28-a946-588ddc4c0c89",
   "metadata": {},
   "outputs": [],
   "source": [
    "if hasattr(spec, 'kernel_params'):\n",
    "    spec.__delattr__('kernel_params')\n",
    "spec.set_peaks()\n",
    "spec.filter_peaks(SNR_threshold=1)\n",
    "spec.filter_peaks(remove_sidepeaks=True)\n",
    "center_mz = spec.mzs[spec.peaks[25]]\n",
    "window_size = .1\n",
    "mask = (spec.mzs > center_mz - window_size / 2) & (spec.mzs < center_mz + window_size / 2)\n",
    "plt.plot(spec.mzs[mask], spec.intensities[mask])\n",
    "plt.vlines(center_mz, spec.intensities[mask].min(), spec.intensities[mask].max(), color='k')"
   ]
  },
  {
   "cell_type": "markdown",
   "id": "76ee3247-3c22-4e4f-807d-c0f0f7633ae3",
   "metadata": {},
   "source": [
    "The next steps are the same as in the targeted approach"
   ]
  },
  {
   "cell_type": "markdown",
   "id": "77221b41-adc0-425a-97bb-5cea6c4b6745",
   "metadata": {},
   "source": [
    "#### Binning the spectra\n",
    "Using our kernels, we can now estimate the compound abundances within each spectrum"
   ]
  },
  {
   "cell_type": "code",
   "execution_count": null,
   "id": "a601cb8f-1549-45ae-a743-f4c96b376e23",
   "metadata": {},
   "outputs": [],
   "source": [
    "spec.bin_spectra(reader)"
   ]
  },
  {
   "cell_type": "markdown",
   "id": "21957cbd-28ab-4984-ab56-c4a22bd7dbf7",
   "metadata": {},
   "source": [
    "and turn it into a feature table"
   ]
  },
  {
   "cell_type": "code",
   "execution_count": null,
   "id": "e00a8e3d-5f96-4e6a-99a4-0696914ba80c",
   "metadata": {},
   "outputs": [],
   "source": [
    "df = spec.set_feature_table()\n",
    "print(df.head())"
   ]
  },
  {
   "cell_type": "markdown",
   "id": "47530a96-e336-4a5c-a2ee-cc430fe5dbac",
   "metadata": {},
   "source": [
    "#### Filtering intensities\n",
    "This feature table may contain a lot of intensities that are below the noise level. It may be desirable to set those intensities to zero. Let's first look at how our ion image looks now and then do the filtering"
   ]
  },
  {
   "cell_type": "code",
   "execution_count": null,
   "id": "2174a7a5-88e4-47ea-ba27-010a916d21aa",
   "metadata": {
    "scrolled": true
   },
   "outputs": [],
   "source": [
    "cols = spec.feature_table.columns[:2]\n",
    "for col in cols:\n",
    "    img = spec.feature_table.pivot(index='y', columns='x', values=col)\n",
    "    clip = np.nanquantile(img, .95)\n",
    "    img[img > clip] = clip\n",
    "    plt.imshow(img)\n",
    "    plt.title(col)\n",
    "    plt.show()"
   ]
  },
  {
   "cell_type": "markdown",
   "id": "3d938bb4-8407-4d42-88b4-19314d240cdd",
   "metadata": {},
   "source": [
    "Now let's do the filtering with an SNR of 2"
   ]
  },
  {
   "cell_type": "code",
   "execution_count": null,
   "id": "2056206b-cd41-438e-8ffa-60417200715e",
   "metadata": {},
   "outputs": [],
   "source": [
    "_ = spec.filter_line_spectra(SNR_threshold=8)"
   ]
  },
  {
   "cell_type": "markdown",
   "id": "04b012bd-7dc4-4a6c-b453-aa278a5f0d93",
   "metadata": {},
   "source": [
    "and look at the ion images again"
   ]
  },
  {
   "cell_type": "code",
   "execution_count": null,
   "id": "409125d5-587a-4873-9656-6b9bc460b8bd",
   "metadata": {
    "scrolled": true
   },
   "outputs": [],
   "source": [
    "cols = spec.feature_table.columns[:2]\n",
    "for col in cols:\n",
    "    img = spec.feature_table.pivot(index='y', columns='x', values=col)\n",
    "    clip = np.nanquantile(img, .95)\n",
    "    img[img > clip] = clip\n",
    "    plt.imshow(img)\n",
    "    plt.title(col)\n",
    "    plt.show()"
   ]
  },
  {
   "cell_type": "markdown",
   "id": "3476e7e2-eea7-466b-840d-10d2d7460990",
   "metadata": {},
   "source": [
    "Unfortunately, due to the low number of spectra the noise-level estimation is not working very well here."
   ]
  }
 ],
 "metadata": {
  "kernelspec": {
   "display_name": "Python 3 (ipykernel)",
   "language": "python",
   "name": "python3"
  },
  "language_info": {
   "codemirror_mode": {
    "name": "ipython",
    "version": 3
   },
   "file_extension": ".py",
   "mimetype": "text/x-python",
   "name": "python",
   "nbconvert_exporter": "python",
   "pygments_lexer": "ipython3",
   "version": "3.11.8"
  }
 },
 "nbformat": 4,
 "nbformat_minor": 5
}
