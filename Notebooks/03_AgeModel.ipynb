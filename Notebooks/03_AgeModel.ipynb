{
 "cells": [
  {
   "cell_type": "markdown",
   "id": "3f261e32-c816-4f8a-93e7-e520999a99c7",
   "metadata": {},
   "source": [
    "# Age Model\n",
    "Most of the time, when dealing with geoscientific data, one wants to add an age scale for each depth. For this application, let's look at the `AgeModel` class. We will look at \n",
    "* How to define an age model from scratch\n",
    "* How to load an existing age model from a file\n",
    "* How to combine age models\n",
    "\n",
    "## Defining an Age Model\n",
    "The easiest way of defining an age model is to provide an *age* and *depth* vector in the right units:"
   ]
  },
  {
   "cell_type": "code",
   "execution_count": 1,
   "id": "0799130a-84d1-4f2b-957e-f2dff935ff00",
   "metadata": {},
   "outputs": [
    {
     "data": {
      "image/png": "[encoded data removed]",
      "text/plain": [
       "<Figure size 640x480 with 1 Axes>"
      ]
     },
     "metadata": {},
     "output_type": "display_data"
    }
   ],
   "source": [
    "from msi_workflow import AgeModel\n",
    "\n",
    "# in cm\n",
    "depths = [0, 5, 10, 15]\n",
    "# in years before 2000\n",
    "ages = [-24, 100, 225, 500]\n",
    "\n",
    "age_model = AgeModel(depth=depths, age=ages)\n",
    "\n",
    "age_model.plot()"
   ]
  },
  {
   "cell_type": "markdown",
   "id": "56d4538f-c499-4fd5-b620-3a742f92e34e",
   "metadata": {},
   "source": [
    "## Reading an Age Model\n",
    "Another option is to provide a file from which to read an already-defined age model. The class can read csv, txt and xlsx files by wrapping the `pandas` `read_csv` and `read_xlsx` functions, so for passing additional keywords, please look at the `read_csv` documentation, if you are not reading in an excel file and the `read_xlsx` documentation otherwise.\n",
    "\n",
    "Here is a somewhat random example from the PANGAEA database \n",
    "<span style=\"font-size:0.8em;\">(Barron, John A; Bukry, David; Bischoff, James L (2004): (Table 1) Age calibration points for DSDP Hole 64-480 of the Guaymas Basin, Gulf of California [dataset]. PANGAEA, https://doi.org/10.1594/PANGAEA.687694, In supplement to: Barron, JA et al. (2004): High resolution paleoceanography of the Guaymas Basin, Gulf of California, during the past 15 000 years. Marine Micropaleontology, 50(3-4), 185-207, https://doi.org/10.1016/S0377-8398(03)00071-9)</span>:"
   ]
  },
  {
   "cell_type": "code",
   "execution_count": 2,
   "id": "01fb5bea-b29b-4806-9be0-38c85b0bc57c",
   "metadata": {},
   "outputs": [
    {
     "name": "stdout",
     "output_type": "stream",
     "text": [
      "dict_keys(['save_file', 'path_folder', '_in_file', 'column_depth', 'column_age', 'df'])\n"
     ]
    }
   ],
   "source": [
    "path_age_model = r'Data\\64-480_age.txt'\n",
    "\n",
    "age_model = AgeModel(\n",
    "    path_file=path_age_model, \n",
    "    sep='\\t',  # entries separated by tabs\n",
    "    skiprows=15  # skip commented block at the top\n",
    ")"
   ]
  },
  {
   "cell_type": "markdown",
   "id": "925cbbcb-3a60-4a41-b29d-7628da2cf77b",
   "metadata": {},
   "source": [
    "Let's see if we were able to read in the table:"
   ]
  },
  {
   "cell_type": "code",
   "execution_count": 3,
   "id": "e9de5b72-7c42-4646-9518-c04a0f272d85",
   "metadata": {},
   "outputs": [
    {
     "data": {
      "text/html": [
       "<div>\n",
       "<style scoped>\n",
       "    .dataframe tbody tr th:only-of-type {\n",
       "        vertical-align: middle;\n",
       "    }\n",
       "\n",
       "    .dataframe tbody tr th {\n",
       "        vertical-align: top;\n",
       "    }\n",
       "\n",
       "    .dataframe thead th {\n",
       "        text-align: right;\n",
       "    }\n",
       "</style>\n",
       "<table border=\"1\" class=\"dataframe\">\n",
       "  <thead>\n",
       "    <tr style=\"text-align: right;\">\n",
       "      <th></th>\n",
       "      <th>Depth sed [m]</th>\n",
       "      <th>Age model [ka]</th>\n",
       "      <th>Ageprof dat des</th>\n",
       "      <th>Reference</th>\n",
       "    </tr>\n",
       "  </thead>\n",
       "  <tbody>\n",
       "    <tr>\n",
       "      <th>0</th>\n",
       "      <td>0.00</td>\n",
       "      <td>1.33</td>\n",
       "      <td>silicoflagellate correlation w/180 cm level of...</td>\n",
       "      <td>Murray (1982)</td>\n",
       "    </tr>\n",
       "    <tr>\n",
       "      <th>1</th>\n",
       "      <td>1.40</td>\n",
       "      <td>2.70</td>\n",
       "      <td>Magnetic secular variation correlation</td>\n",
       "      <td>(Harris and Karlin, written commun., 2001)</td>\n",
       "    </tr>\n",
       "    <tr>\n",
       "      <th>2</th>\n",
       "      <td>2.20</td>\n",
       "      <td>3.40</td>\n",
       "      <td>Magnetic secular variation correlation</td>\n",
       "      <td>(Harris and Karlin, written commun., 2001)</td>\n",
       "    </tr>\n",
       "    <tr>\n",
       "      <th>3</th>\n",
       "      <td>5.70</td>\n",
       "      <td>6.45</td>\n",
       "      <td>Magnetic secular variation correlation</td>\n",
       "      <td>(Harris and Karlin, written commun., 2001)</td>\n",
       "    </tr>\n",
       "    <tr>\n",
       "      <th>4</th>\n",
       "      <td>7.00</td>\n",
       "      <td>7.60</td>\n",
       "      <td>Magnetic secular variation correlation</td>\n",
       "      <td>(Harris and Karlin, written commun., 2001)</td>\n",
       "    </tr>\n",
       "    <tr>\n",
       "      <th>5</th>\n",
       "      <td>7.70</td>\n",
       "      <td>8.20</td>\n",
       "      <td>Magnetic secular variation correlation</td>\n",
       "      <td>(Harris and Karlin, written commun., 2001)</td>\n",
       "    </tr>\n",
       "    <tr>\n",
       "      <th>6</th>\n",
       "      <td>10.40</td>\n",
       "      <td>11.60</td>\n",
       "      <td>Top Younger Dryas</td>\n",
       "      <td>(Keigwin and Jones, 1990)</td>\n",
       "    </tr>\n",
       "    <tr>\n",
       "      <th>7</th>\n",
       "      <td>10.51</td>\n",
       "      <td>11.83</td>\n",
       "      <td>AMS calendar age on N. deuterei</td>\n",
       "      <td>(Keigwin and Jones, 1990)</td>\n",
       "    </tr>\n",
       "    <tr>\n",
       "      <th>8</th>\n",
       "      <td>10.81</td>\n",
       "      <td>12.34</td>\n",
       "      <td>AMS calendar age on Nuttalides deuterei</td>\n",
       "      <td>(Keigwin and Jones, 1990)</td>\n",
       "    </tr>\n",
       "    <tr>\n",
       "      <th>9</th>\n",
       "      <td>11.15</td>\n",
       "      <td>12.90</td>\n",
       "      <td>Base Younger Dryas</td>\n",
       "      <td>(Keigwin and Jones, 1990)</td>\n",
       "    </tr>\n",
       "    <tr>\n",
       "      <th>10</th>\n",
       "      <td>13.05</td>\n",
       "      <td>14.60</td>\n",
       "      <td>Base Bolling-Allerod</td>\n",
       "      <td>(Keigwin and Jones, 1990; Pide et al., 1999)</td>\n",
       "    </tr>\n",
       "    <tr>\n",
       "      <th>11</th>\n",
       "      <td>13.11</td>\n",
       "      <td>14.73</td>\n",
       "      <td>AMS calendar age on Nuttalides deuterei</td>\n",
       "      <td>(Keigwin and Jones, 1990)</td>\n",
       "    </tr>\n",
       "    <tr>\n",
       "      <th>12</th>\n",
       "      <td>13.51</td>\n",
       "      <td>15.45</td>\n",
       "      <td>AMS calendar age on Nuttalides deuterei</td>\n",
       "      <td>(Keigwin and Jones, 1990)</td>\n",
       "    </tr>\n",
       "  </tbody>\n",
       "</table>\n",
       "</div>"
      ],
      "text/plain": [
       "    Depth sed [m]  Age model [ka]  \\\n",
       "0            0.00            1.33   \n",
       "1            1.40            2.70   \n",
       "2            2.20            3.40   \n",
       "3            5.70            6.45   \n",
       "4            7.00            7.60   \n",
       "5            7.70            8.20   \n",
       "6           10.40           11.60   \n",
       "7           10.51           11.83   \n",
       "8           10.81           12.34   \n",
       "9           11.15           12.90   \n",
       "10          13.05           14.60   \n",
       "11          13.11           14.73   \n",
       "12          13.51           15.45   \n",
       "\n",
       "                                      Ageprof dat des  \\\n",
       "0   silicoflagellate correlation w/180 cm level of...   \n",
       "1              Magnetic secular variation correlation   \n",
       "2              Magnetic secular variation correlation   \n",
       "3              Magnetic secular variation correlation   \n",
       "4              Magnetic secular variation correlation   \n",
       "5              Magnetic secular variation correlation   \n",
       "6                                   Top Younger Dryas   \n",
       "7                     AMS calendar age on N. deuterei   \n",
       "8             AMS calendar age on Nuttalides deuterei   \n",
       "9                                  Base Younger Dryas   \n",
       "10                               Base Bolling-Allerod   \n",
       "11            AMS calendar age on Nuttalides deuterei   \n",
       "12            AMS calendar age on Nuttalides deuterei   \n",
       "\n",
       "                                       Reference  \n",
       "0                                  Murray (1982)  \n",
       "1     (Harris and Karlin, written commun., 2001)  \n",
       "2     (Harris and Karlin, written commun., 2001)  \n",
       "3     (Harris and Karlin, written commun., 2001)  \n",
       "4     (Harris and Karlin, written commun., 2001)  \n",
       "5     (Harris and Karlin, written commun., 2001)  \n",
       "6                      (Keigwin and Jones, 1990)  \n",
       "7                      (Keigwin and Jones, 1990)  \n",
       "8                      (Keigwin and Jones, 1990)  \n",
       "9                      (Keigwin and Jones, 1990)  \n",
       "10  (Keigwin and Jones, 1990; Pide et al., 1999)  \n",
       "11                     (Keigwin and Jones, 1990)  \n",
       "12                     (Keigwin and Jones, 1990)  "
      ]
     },
     "execution_count": 3,
     "metadata": {},
     "output_type": "execute_result"
    }
   ],
   "source": [
    "age_model.df"
   ]
  },
  {
   "cell_type": "code",
   "execution_count": 4,
   "id": "2a167e18-bbc4-492b-b5bf-dc9143d262f6",
   "metadata": {},
   "outputs": [
    {
     "name": "stdout",
     "output_type": "stream",
     "text": [
      "Depth sed [m] Age model [ka]\n",
      "[ 0.    1.4   2.2   5.7   7.    7.7  10.4  10.51 10.81 11.15 13.05 13.11\n",
      " 13.51]\n",
      "[ 1.33  2.7   3.4   6.45  7.6   8.2  11.6  11.83 12.34 12.9  14.6  14.73\n",
      " 15.45]\n"
     ]
    }
   ],
   "source": [
    "print(age_model.column_depth, age_model.column_age)  # we were able to identify the columns automatically\n",
    "print(age_model.depth)\n",
    "print(age_model.age)"
   ]
  },
  {
   "cell_type": "markdown",
   "id": "f920d23e-3e77-4dd9-8df5-393f7543ccca",
   "metadata": {},
   "source": [
    "Looks like this worked. Sometimes you may need to specify the depth and age columns:"
   ]
  },
  {
   "cell_type": "code",
   "execution_count": 5,
   "id": "8f652cc7-da5a-4bed-a6b6-1537da699b2a",
   "metadata": {},
   "outputs": [
    {
     "name": "stdout",
     "output_type": "stream",
     "text": [
      "dict_keys(['save_file', 'path_folder', '_in_file', 'column_depth', 'column_age', 'df'])\n"
     ]
    }
   ],
   "source": [
    "path_age_model = r'Data\\64-480_age.txt'\n",
    "\n",
    "age_model = AgeModel(\n",
    "    path_file=path_age_model, \n",
    "    sep='\\t',  # entries separated by tabs\n",
    "    skiprows=15,  # skip commented block at the top\n",
    "    column_depth='Depth sed [m]',\n",
    "    column_age='Age model [ka]'\n",
    ")"
   ]
  },
  {
   "cell_type": "markdown",
   "id": "295461c2-71c4-4671-bdb2-39e4db224996",
   "metadata": {},
   "source": [
    "All that remains to be done is to convert the units"
   ]
  },
  {
   "cell_type": "code",
   "execution_count": 6,
   "id": "12638782-50f0-4d2d-8a5b-f88797fb92f0",
   "metadata": {},
   "outputs": [
    {
     "data": {
      "image/png": "[encoded data removed]",
      "text/plain": [
       "<Figure size 640x480 with 1 Axes>"
      ]
     },
     "metadata": {},
     "output_type": "display_data"
    }
   ],
   "source": [
    "age_model.convert_depth_scale(100)  # multiply with factor 100 to convert m to cm\n",
    "age_model.convert_age_scale(1000)  # multiply with factor 1000 to convert kyrs into yrs\n",
    "age_model.plot()"
   ]
  },
  {
   "cell_type": "markdown",
   "id": "9698ff9d-b35a-42bf-9b8f-426099823204",
   "metadata": {
    "jp-MarkdownHeadingCollapsed": true
   },
   "source": [
    "## Combining Age Models\n",
    "Oftentimes age models are spread out over multiple files. With the `AgeModel` class we can easily combine them into one (assuming that their depths don't overlap). This will be shown for an artificial example:"
   ]
  },
  {
   "cell_type": "code",
   "execution_count": 7,
   "id": "5ff56be4-b05d-4e95-baba-cfd14bfceb48",
   "metadata": {},
   "outputs": [
    {
     "data": {
      "image/png": "[encoded data removed]",
      "text/plain": [
       "<Figure size 640x480 with 1 Axes>"
      ]
     },
     "metadata": {},
     "output_type": "display_data"
    }
   ],
   "source": [
    "from msi_workflow import AgeModel\n",
    "\n",
    "# in cm\n",
    "depths1 = [0, 5, 10, 15]\n",
    "# in years before 2000\n",
    "ages1 = [-24, 100, 225, 500]\n",
    "age_model1 = AgeModel(depth=depths1, age=ages1)\n",
    "\n",
    "depths2 = [25, 35]\n",
    "ages2 = [613, 680]\n",
    "\n",
    "age_model2 = AgeModel(depth=depths2, age=ages2)\n",
    "\n",
    "age_model = age_model1 + age_model2\n",
    "\n",
    "age_model.plot()"
   ]
  },
  {
   "cell_type": "markdown",
   "id": "8a66fb41-710a-4131-a1bb-d312f0097728",
   "metadata": {},
   "source": [
    "Notice that the order matters:"
   ]
  },
  {
   "cell_type": "code",
   "execution_count": 8,
   "id": "8c0abbf8-f034-41db-96cc-903239e4076f",
   "metadata": {},
   "outputs": [
    {
     "name": "stdout",
     "output_type": "stream",
     "text": [
      "last depth of first model has to be smaller than second but is 35 and 0\n"
     ]
    }
   ],
   "source": [
    "try:\n",
    "    age_model = age_model2 + age_model1\n",
    "except AssertionError as e:\n",
    "    print(e)"
   ]
  },
  {
   "cell_type": "markdown",
   "id": "d58ac67d-a62d-4eb7-82a9-108bc9a2e4b7",
   "metadata": {},
   "source": [
    "## Using the Age Model\n",
    "Now that we defined age models, let's put them to use. Say we have measurements along the core that don't match the points of the age model. Using the class, we can easily find the missing ages through interpolation:"
   ]
  },
  {
   "cell_type": "code",
   "execution_count": 9,
   "id": "acd06aaa-60e8-47c1-8f98-2b775ef7520f",
   "metadata": {},
   "outputs": [
    {
     "name": "stdout",
     "output_type": "stream",
     "text": [
      "[  0.8          8.06464646  15.32929293  22.59393939  29.85858586\n",
      "  37.12323232  44.38787879  51.65252525  58.91717172  66.18181818\n",
      "  73.44646465  80.71111111  87.97575758  95.24040404 102.52525253\n",
      " 109.84848485 117.17171717 124.49494949 131.81818182 139.14141414\n",
      " 146.46464646 153.78787879 161.11111111 168.43434343 175.75757576\n",
      " 183.08080808 190.4040404  197.72727273 205.05050505 212.37373737\n",
      " 219.6969697  229.44444444 245.55555556 261.66666667 277.77777778\n",
      " 293.88888889 310.         326.11111111 342.22222222 358.33333333\n",
      " 374.44444444 390.55555556 406.66666667 422.77777778 438.88888889\n",
      " 455.         471.11111111 487.22222222 500.68484848 503.99494949\n",
      " 507.30505051 510.61515152 513.92525253 517.23535354 520.54545455\n",
      " 523.85555556 527.16565657 530.47575758 533.78585859 537.0959596\n",
      " 540.40606061 543.71616162 547.02626263 550.33636364 553.64646465\n",
      " 556.95656566 560.26666667 563.57676768 566.88686869 570.1969697\n",
      " 573.50707071 576.81717172 580.12727273 583.43737374 586.74747475\n",
      " 590.05757576 593.36767677 596.67777778 599.98787879 603.2979798\n",
      " 606.60808081 609.91818182 613.13535354 615.0979798  617.06060606\n",
      " 619.02323232 620.98585859 622.94848485 624.91111111 626.87373737\n",
      " 628.83636364 630.7989899  632.76161616 634.72424242 636.68686869\n",
      " 638.64949495 640.61212121 642.57474747 644.53737374 646.5       ]\n"
     ]
    }
   ],
   "source": [
    "import numpy as np\n",
    "depths_core = np.linspace(1, 30, 100)\n",
    "ages_core = age_model.depth_to_age(depths_core)\n",
    "print(ages_core)"
   ]
  },
  {
   "cell_type": "markdown",
   "id": "fc945a0b-20f2-4571-a139-7aaa47208fa5",
   "metadata": {},
   "source": [
    "## Saving and Loading\n",
    "Dealing with the different file formats and units of age models can be quite annoying. Luckily we only have to do it once. First, Let's define the folder we want to save the age model to:"
   ]
  },
  {
   "cell_type": "code",
   "execution_count": 10,
   "id": "ef9a7996-fa41-4876-af85-97fa3028e100",
   "metadata": {},
   "outputs": [],
   "source": [
    "age_model.path_file = 'Data/MyModel.pickle'  # make sure the file type is pickle\n",
    "age_model.save()"
   ]
  },
  {
   "cell_type": "code",
   "execution_count": 11,
   "id": "de440567-d4c2-4d18-b93d-7b8dbbb04c59",
   "metadata": {},
   "outputs": [
    {
     "data": {
      "text/plain": [
       "{'save_file': 'MyModel.pickle',\n",
       " 'path_folder': 'Data',\n",
       " '_in_file': 'MyModel.pickle',\n",
       " 'column_depth': 'depth',\n",
       " 'column_age': 'age',\n",
       " 'df':    depth  age\n",
       " 0      0  -24\n",
       " 1      5  100\n",
       " 2     10  225\n",
       " 3     15  500\n",
       " 4     25  613\n",
       " 5     35  680}"
      ]
     },
     "execution_count": 11,
     "metadata": {},
     "output_type": "execute_result"
    }
   ],
   "source": [
    "age_model.__dict__"
   ]
  },
  {
   "cell_type": "markdown",
   "id": "117a5ea9-c8c8-4804-b3e9-05012bc54c98",
   "metadata": {},
   "source": [
    "and loading it back in "
   ]
  },
  {
   "cell_type": "code",
   "execution_count": 15,
   "id": "015af20f-f930-4637-8e82-6e4228fb6145",
   "metadata": {},
   "outputs": [
    {
     "name": "stdout",
     "output_type": "stream",
     "text": [
      "dict_keys(['save_file', 'path_folder', '_in_file', 'column_depth', 'column_age', 'df'])\n"
     ]
    },
    {
     "data": {
      "text/html": [
       "<div>\n",
       "<style scoped>\n",
       "    .dataframe tbody tr th:only-of-type {\n",
       "        vertical-align: middle;\n",
       "    }\n",
       "\n",
       "    .dataframe tbody tr th {\n",
       "        vertical-align: top;\n",
       "    }\n",
       "\n",
       "    .dataframe thead th {\n",
       "        text-align: right;\n",
       "    }\n",
       "</style>\n",
       "<table border=\"1\" class=\"dataframe\">\n",
       "  <thead>\n",
       "    <tr style=\"text-align: right;\">\n",
       "      <th></th>\n",
       "      <th>depth</th>\n",
       "      <th>age</th>\n",
       "    </tr>\n",
       "  </thead>\n",
       "  <tbody>\n",
       "    <tr>\n",
       "      <th>0</th>\n",
       "      <td>0</td>\n",
       "      <td>-24</td>\n",
       "    </tr>\n",
       "    <tr>\n",
       "      <th>1</th>\n",
       "      <td>5</td>\n",
       "      <td>100</td>\n",
       "    </tr>\n",
       "    <tr>\n",
       "      <th>2</th>\n",
       "      <td>10</td>\n",
       "      <td>225</td>\n",
       "    </tr>\n",
       "    <tr>\n",
       "      <th>3</th>\n",
       "      <td>15</td>\n",
       "      <td>500</td>\n",
       "    </tr>\n",
       "    <tr>\n",
       "      <th>4</th>\n",
       "      <td>25</td>\n",
       "      <td>613</td>\n",
       "    </tr>\n",
       "    <tr>\n",
       "      <th>5</th>\n",
       "      <td>35</td>\n",
       "      <td>680</td>\n",
       "    </tr>\n",
       "  </tbody>\n",
       "</table>\n",
       "</div>"
      ],
      "text/plain": [
       "   depth  age\n",
       "0      0  -24\n",
       "1      5  100\n",
       "2     10  225\n",
       "3     15  500\n",
       "4     25  613\n",
       "5     35  680"
      ]
     },
     "execution_count": 15,
     "metadata": {},
     "output_type": "execute_result"
    }
   ],
   "source": [
    "age_model_loaded = AgeModel(path_file='Data/MyModel.pickle')\n",
    "age_model.df"
   ]
  },
  {
   "cell_type": "code",
   "execution_count": null,
   "id": "7a2e20bf-afd7-450f-a2d3-0751277624fb",
   "metadata": {},
   "outputs": [],
   "source": []
  }
 ],
 "metadata": {
  "kernelspec": {
   "display_name": "Python 3 (ipykernel)",
   "language": "python",
   "name": "python3"
  },
  "language_info": {
   "codemirror_mode": {
    "name": "ipython",
    "version": 3
   },
   "file_extension": ".py",
   "mimetype": "text/x-python",
   "name": "python",
   "nbconvert_exporter": "python",
   "pygments_lexer": "ipython3",
   "version": "3.11.8"
  }
 },
 "nbformat": 4,
 "nbformat_minor": 5
}
