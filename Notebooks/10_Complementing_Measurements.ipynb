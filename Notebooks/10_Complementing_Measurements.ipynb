{
 "cells": [
  {
   "cell_type": "markdown",
   "id": "61dac3ec-f22f-4ecf-b236-1feb72a33cff",
   "metadata": {},
   "source": [
    "# Complementing measurements\n",
    "In the previous sections, we saw a couple of examples with different kinds of data and image features. Now it is time to put everything together. Here we definitely recommend using the `Project` classes. We will use the real data this time, so expect longer computation times. This first section will be a short recap of the previous chapter since we did not apply the steps to the real data yet.\n",
    "\n",
    "## Setting up the project"
   ]
  },
  {
   "cell_type": "code",
   "execution_count": 1,
   "id": "135b51c5-3a5d-4739-b0fa-cd553bc8a0b5",
   "metadata": {},
   "outputs": [],
   "source": [
    "from msi_workflow import get_project\n",
    "import user_params\n",
    "\n",
    "path_folder = user_params.path_folder_real_data  # feel free to replace this by your data\n",
    "\n",
    "project = get_project(is_MSI=True, path_folder=path_folder)"
   ]
  },
  {
   "cell_type": "code",
   "execution_count": 2,
   "id": "f4a96538-2f64-4eff-a026-95782f96f740",
   "metadata": {},
   "outputs": [
    {
     "data": {
      "text/plain": [
       "path_folder: C:\\Users\\Yannick Zander\\Promotion\\Cariaco MSI 2024\\490-495cm\\2018_08_27 Cariaco 490-495 alkenones.i\n",
       "d_folder: 2018_08_27 Cariaco 490-495 alkenones.d\n",
       "mis_file: 2018_08_27 Cariaco 490-495 alkenones.mis\n",
       "AgeModel_file: AgeModel.pickle\n",
       "peaks_file: peaks.sqlite\n",
       "Spectra_file: Spectra.hdf5\n",
       "ImageClassified_file: ImageClassified.pickle\n",
       "ImageROI_file: ImageROI.pickle\n",
       "ImageSample_file: ImageSample.pickle\n",
       "SampleImageHandlerMSI_file: SampleImageHandlerMSI.pickle\n",
       "_is_laminated: True"
      ]
     },
     "execution_count": 2,
     "metadata": {},
     "output_type": "execute_result"
    }
   ],
   "source": [
    "project"
   ]
  },
  {
   "cell_type": "markdown",
   "id": "f68da8e7-324b-4f86-a64c-f3317470f5ff",
   "metadata": {},
   "source": [
    "## Setting Images\n",
    "Usually, it is more convenient to start with setting the images (`SampleImageHandler`, `ImageSample`, etc.)"
   ]
  },
  {
   "cell_type": "code",
   "execution_count": 4,
   "id": "dc2ed6a0-2b74-4aa1-9b85-7a9727d000fa",
   "metadata": {},
   "outputs": [
    {
     "ename": "TypeError",
     "evalue": "ProjectMSI.require_image_handler() got an unexpected keyword argument 'plts'",
     "output_type": "error",
     "traceback": [
      "\u001b[1;31m---------------------------------------------------------------------------\u001b[0m",
      "\u001b[1;31mTypeError\u001b[0m                                 Traceback (most recent call last)",
      "Cell \u001b[1;32mIn[4], line 4\u001b[0m\n\u001b[0;32m      1\u001b[0m overwrite_all \u001b[38;5;241m=\u001b[39m \u001b[38;5;28;01mTrue\u001b[39;00m\n\u001b[0;32m      2\u001b[0m plts \u001b[38;5;241m=\u001b[39m \u001b[38;5;28;01mTrue\u001b[39;00m\n\u001b[1;32m----> 4\u001b[0m \u001b[43mproject\u001b[49m\u001b[38;5;241;43m.\u001b[39;49m\u001b[43mrequire_image_handler\u001b[49m\u001b[43m(\u001b[49m\u001b[43moverwrite\u001b[49m\u001b[38;5;241;43m=\u001b[39;49m\u001b[43moverwrite_all\u001b[49m\u001b[43m \u001b[49m\u001b[38;5;129;43;01mor\u001b[39;49;00m\u001b[43m \u001b[49m\u001b[38;5;28;43;01mFalse\u001b[39;49;00m\u001b[43m,\u001b[49m\u001b[43m \u001b[49m\u001b[43mplts\u001b[49m\u001b[38;5;241;43m=\u001b[39;49m\u001b[43mplts\u001b[49m\u001b[43m)\u001b[49m\n\u001b[0;32m      5\u001b[0m project\u001b[38;5;241m.\u001b[39mrequire_image_sample(overwrite\u001b[38;5;241m=\u001b[39moverwrite_all \u001b[38;5;129;01mor\u001b[39;00m \u001b[38;5;28;01mFalse\u001b[39;00m, plts\u001b[38;5;241m=\u001b[39mplts)\n\u001b[0;32m      6\u001b[0m project\u001b[38;5;241m.\u001b[39mrequire_image_roi(overwrite\u001b[38;5;241m=\u001b[39moverwrite_all \u001b[38;5;129;01mor\u001b[39;00m \u001b[38;5;28;01mFalse\u001b[39;00m, plts\u001b[38;5;241m=\u001b[39mplts)\n",
      "\u001b[1;31mTypeError\u001b[0m: ProjectMSI.require_image_handler() got an unexpected keyword argument 'plts'"
     ]
    }
   ],
   "source": [
    "overwrite_all = True\n",
    "plts = True\n",
    "\n",
    "project.require_image_handler(overwrite=overwrite_all or False, plts=plts)\n",
    "project.require_image_sample(overwrite=overwrite_all or False, plts=plts)\n",
    "project.require_image_roi(overwrite=overwrite_all or False, plts=plts)\n",
    "project.require_image_classified(overwrite=overwrite_all or False)"
   ]
  },
  {
   "cell_type": "code",
   "execution_count": null,
   "id": "cb6be5e1-50fb-4851-addf-6cf7dd8e01a6",
   "metadata": {},
   "outputs": [],
   "source": []
  }
 ],
 "metadata": {
  "kernelspec": {
   "display_name": "Python 3 (ipykernel)",
   "language": "python",
   "name": "python3"
  },
  "language_info": {
   "codemirror_mode": {
    "name": "ipython",
    "version": 3
   },
   "file_extension": ".py",
   "mimetype": "text/x-python",
   "name": "python",
   "nbconvert_exporter": "python",
   "pygments_lexer": "ipython3",
   "version": "3.11.8"
  }
 },
 "nbformat": 4,
 "nbformat_minor": 5
}
